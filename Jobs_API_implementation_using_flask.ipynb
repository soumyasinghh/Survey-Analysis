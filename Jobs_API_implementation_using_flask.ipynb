{
  "nbformat": 4,
  "nbformat_minor": 0,
  "metadata": {
    "colab": {
      "provenance": [],
      "authorship_tag": "ABX9TyOkG8wt7aNMpSO+c8anS557",
      "include_colab_link": true
    },
    "kernelspec": {
      "name": "python3",
      "display_name": "Python 3"
    },
    "language_info": {
      "name": "python"
    }
  },
  "cells": [
    {
      "cell_type": "markdown",
      "metadata": {
        "id": "view-in-github",
        "colab_type": "text"
      },
      "source": [
        "<a href=\"https://colab.research.google.com/github/soumyasinghh/Survey-Analysis/blob/main/Jobs_API_implementation_using_flask.ipynb\" target=\"_parent\"><img src=\"https://colab.research.google.com/assets/colab-badge.svg\" alt=\"Open In Colab\"/></a>"
      ]
    },
    {
      "cell_type": "code",
      "execution_count": 1,
      "metadata": {
        "colab": {
          "base_uri": "https://localhost:8080/"
        },
        "id": "c9UecnHEBl3L",
        "outputId": "0eea72b1-66db-4d94-a211-2d76489de2de"
      },
      "outputs": [
        {
          "output_type": "stream",
          "name": "stdout",
          "text": [
            "Requirement already satisfied: flask in /usr/local/lib/python3.10/dist-packages (2.2.5)\n",
            "Requirement already satisfied: Werkzeug>=2.2.2 in /usr/local/lib/python3.10/dist-packages (from flask) (3.0.2)\n",
            "Requirement already satisfied: Jinja2>=3.0 in /usr/local/lib/python3.10/dist-packages (from flask) (3.1.3)\n",
            "Requirement already satisfied: itsdangerous>=2.0 in /usr/local/lib/python3.10/dist-packages (from flask) (2.1.2)\n",
            "Requirement already satisfied: click>=8.0 in /usr/local/lib/python3.10/dist-packages (from flask) (8.1.7)\n",
            "Requirement already satisfied: MarkupSafe>=2.0 in /usr/local/lib/python3.10/dist-packages (from Jinja2>=3.0->flask) (2.1.5)\n"
          ]
        }
      ],
      "source": [
        "!pip install flask\n"
      ]
    },
    {
      "cell_type": "markdown",
      "source": [
        "The dataset used in this lab comes from the following source: https://www.kaggle.com/promptcloud/jobs-on-naukricom under the under a Public Domain license."
      ],
      "metadata": {
        "id": "0kY8FyXgCHbA"
      }
    },
    {
      "cell_type": "code",
      "source": [
        "!wget  https://cf-courses-data.s3.us.cloud-object-storage.appdomain.cloud/IBM-DA0321EN-SkillsNetwork/labs/module%201/Accessing%20Data%20Using%20APIs/jobs.json\n"
      ],
      "metadata": {
        "colab": {
          "base_uri": "https://localhost:8080/"
        },
        "id": "nXKZENAmCAQN",
        "outputId": "e3bdf9dc-635f-46ab-b2c5-7a7d84c1b3ae"
      },
      "execution_count": 2,
      "outputs": [
        {
          "output_type": "stream",
          "name": "stdout",
          "text": [
            "--2024-04-15 04:34:08--  https://cf-courses-data.s3.us.cloud-object-storage.appdomain.cloud/IBM-DA0321EN-SkillsNetwork/labs/module%201/Accessing%20Data%20Using%20APIs/jobs.json\n",
            "Resolving cf-courses-data.s3.us.cloud-object-storage.appdomain.cloud (cf-courses-data.s3.us.cloud-object-storage.appdomain.cloud)... 169.45.118.108\n",
            "Connecting to cf-courses-data.s3.us.cloud-object-storage.appdomain.cloud (cf-courses-data.s3.us.cloud-object-storage.appdomain.cloud)|169.45.118.108|:443... connected.\n",
            "HTTP request sent, awaiting response... 200 OK\n",
            "Length: 12878382 (12M) [application/json]\n",
            "Saving to: ‘jobs.json’\n",
            "\n",
            "jobs.json           100%[===================>]  12.28M  1.79MB/s    in 13s     \n",
            "\n",
            "2024-04-15 04:34:22 (937 KB/s) - ‘jobs.json’ saved [12878382/12878382]\n",
            "\n"
          ]
        }
      ]
    },
    {
      "cell_type": "code",
      "source": [
        "import flask\n",
        "from flask import request, jsonify\n",
        "import requests\n",
        "import re\n",
        "\n",
        "def get_data(key,value,current):\n",
        "    results = list()\n",
        "    pattern_dict = {\n",
        "        'C'      : '(C)',\n",
        "        'C++'    : '(C\\+\\+)',\n",
        "        'Java'   :'(Java)',\n",
        "        'C#'     : '(C\\#)',\n",
        "        'Python' :'(Python)',\n",
        "        'Scala' : '(Scala)',\n",
        "        'Oracle' : '(Oracle)',\n",
        "        'SQL Server': '(SQL Server)',\n",
        "        'MySQL Server' :'(MySQL Server)',\n",
        "        'PostgreSQL':'(PostgreSQL)',\n",
        "        'MongoDB'    : '(MongoDB)',\n",
        "        'JavaScript'    : '(JavaScript)',\n",
        "        'Los Angeles' :'(Los Angeles)',\n",
        "        'New York':'(New York)',\n",
        "        'San Francisco':'(San Francisco)',\n",
        "        'Washington DC':'(Washington DC)',\n",
        "        'Seattle':'(Seattle)',\n",
        "        'Austin':'(Austin)',\n",
        "        'Detroit':'(Detroit)',\n",
        "\n",
        "\n",
        "\n",
        "\n",
        "\n",
        "    }\n",
        "    for rec in current:\n",
        "        print(rec[key])\n",
        "        print(type(rec[key]))\n",
        "        print(rec[key].find(value))\n",
        "        #if rec[key].find(value) != -1:\n",
        "        import re\n",
        "        #reex_str = \"\"\"(C)|(C\\+\\+)|(JavaScript)|(Java)|(C\\#)|(Python)|(Scala)|(Oracle)|(SQL Server)|(MySQL Server)|(PostgreSQL)|(MongoDB)\"\"\"\n",
        "        if re.search(pattern_dict[value],rec[key]) != None:\n",
        "            results.append(rec)\n",
        "    return results\n",
        "\n",
        "app = flask.Flask(__name__)\n",
        "\n",
        "import json\n",
        "data = None\n",
        "with open('jobs.json',encoding='utf-8') as f:\n",
        "    # returns JSON object as\n",
        "    # a dictionary\n",
        "    data = json.load(f)\n",
        "\n",
        "\n",
        "\n",
        "@app.route('/', methods=['GET'])\n",
        "def home():\n",
        "\n",
        "    return '''<h1>Welcome to flask JOB search API</p>'''\n",
        "\n",
        "\n",
        "@app.route('/data/all', methods=['GET'])\n",
        "def api_all():\n",
        "    return jsonify(data)\n",
        "\n",
        "\n",
        "@app.route('/data', methods=['GET'])\n",
        "def api_id():\n",
        "    # Check if keys such as Job Title,KeySkills, Role Category and others  are provided as part of the URL.\n",
        "    #  Assign the keys to the corresponding variables..\n",
        "    # If no key is provided, display an error in the browser.\n",
        "    res = None\n",
        "    for req in request.args:\n",
        "\n",
        "        if req == 'Job Title':\n",
        "            key = 'Job Title'\n",
        "        elif req == 'Job Experience Required' :\n",
        "            key='Job Experience Required'\n",
        "        elif req == 'Key Skills' :\n",
        "            key='Key Skills'\n",
        "\n",
        "        elif req == 'Role Category' :\n",
        "            key='Role Category'\n",
        "        elif req == 'Location' :\n",
        "            key='Location'\n",
        "\n",
        "        elif req == 'Functional Area' :\n",
        "            key='Functional Area'\n",
        "\n",
        "        elif req == 'Industry' :\n",
        "            key='Industry'\n",
        "        elif req == 'Role' :\n",
        "            key='Role'\n",
        "        elif req==\"id\":\n",
        "             key=\"id\"\n",
        "        else:\n",
        "            pass\n",
        "\n",
        "        value = request.args[key]\n",
        "        if (res==None):\n",
        "            res = get_data(key,value,data)\n",
        "        else:\n",
        "            res = get_data(key,value,res)\n",
        "\n",
        "    # Use the jsonify function from Flask to convert our list of\n",
        "    # Python dictionaries to the JSON format.\n",
        "    return jsonify(res)\n",
        "\n",
        "app.run()"
      ],
      "metadata": {
        "colab": {
          "base_uri": "https://localhost:8080/"
        },
        "id": "zE9-bOQFCKf5",
        "outputId": "0563a45d-d6c2-41ca-c512-33d610adfbd4"
      },
      "execution_count": null,
      "outputs": [
        {
          "output_type": "stream",
          "name": "stdout",
          "text": [
            " * Serving Flask app '__main__'\n",
            " * Debug mode: off\n"
          ]
        },
        {
          "output_type": "stream",
          "name": "stderr",
          "text": [
            "INFO:werkzeug:\u001b[31m\u001b[1mWARNING: This is a development server. Do not use it in a production deployment. Use a production WSGI server instead.\u001b[0m\n",
            " * Running on http://127.0.0.1:5000\n",
            "INFO:werkzeug:\u001b[33mPress CTRL+C to quit\u001b[0m\n"
          ]
        }
      ]
    },
    {
      "cell_type": "code",
      "source": [],
      "metadata": {
        "id": "URHIcjHMCe05"
      },
      "execution_count": null,
      "outputs": []
    }
  ]
}